{
  "nbformat": 4,
  "nbformat_minor": 0,
  "metadata": {
    "colab": {
      "provenance": [],
      "authorship_tag": "ABX9TyMx0Jq+wzqSuaIRAikqCu+6",
      "include_colab_link": true
    },
    "kernelspec": {
      "name": "python3",
      "display_name": "Python 3"
    },
    "language_info": {
      "name": "python"
    }
  },
  "cells": [
    {
      "cell_type": "markdown",
      "metadata": {
        "id": "view-in-github",
        "colab_type": "text"
      },
      "source": [
        "<a href=\"https://colab.research.google.com/github/mrzack18/Forward-Chaining_-_Backward-Chaining/blob/main/Forward-Chaining_%26_Backward-Chaining.ipynb\" target=\"_parent\"><img src=\"https://colab.research.google.com/assets/colab-badge.svg\" alt=\"Open In Colab\"/></a>"
      ]
    },
    {
      "cell_type": "markdown",
      "source": [
        "# **Install Package Experta**"
      ],
      "metadata": {
        "id": "VaDBZA9xCrCo"
      }
    },
    {
      "cell_type": "code",
      "execution_count": 2,
      "metadata": {
        "colab": {
          "base_uri": "https://localhost:8080/"
        },
        "id": "yhzWrI8A4_ce",
        "outputId": "f5cc450b-9d05-4155-ce92-46b7e8eba580"
      },
      "outputs": [
        {
          "output_type": "stream",
          "name": "stdout",
          "text": [
            "Collecting experta\n",
            "  Downloading experta-1.9.4-py3-none-any.whl.metadata (5.0 kB)\n",
            "Collecting frozendict==1.2 (from experta)\n",
            "  Downloading frozendict-1.2.tar.gz (2.6 kB)\n",
            "  Preparing metadata (setup.py) ... \u001b[?25l\u001b[?25hdone\n",
            "Collecting schema==0.6.7 (from experta)\n",
            "  Downloading schema-0.6.7-py2.py3-none-any.whl.metadata (14 kB)\n",
            "Downloading experta-1.9.4-py3-none-any.whl (35 kB)\n",
            "Downloading schema-0.6.7-py2.py3-none-any.whl (14 kB)\n",
            "Building wheels for collected packages: frozendict\n",
            "  Building wheel for frozendict (setup.py) ... \u001b[?25l\u001b[?25hdone\n",
            "  Created wheel for frozendict: filename=frozendict-1.2-py3-none-any.whl size=3149 sha256=01c35c7b7e709347fd22d5f4c2ae7638c5e3a88c571bf4e4bebe912d72860d1b\n",
            "  Stored in directory: /root/.cache/pip/wheels/49/ac/f8/cb8120244e710bdb479c86198b03c7b08c3c2d3d2bf448fd6e\n",
            "Successfully built frozendict\n",
            "Installing collected packages: schema, frozendict, experta\n",
            "  Attempting uninstall: frozendict\n",
            "    Found existing installation: frozendict 2.4.6\n",
            "    Uninstalling frozendict-2.4.6:\n",
            "      Successfully uninstalled frozendict-2.4.6\n",
            "\u001b[31mERROR: pip's dependency resolver does not currently take into account all the packages that are installed. This behaviour is the source of the following dependency conflicts.\n",
            "yfinance 0.2.55 requires frozendict>=2.3.4, but you have frozendict 1.2 which is incompatible.\u001b[0m\u001b[31m\n",
            "\u001b[0mSuccessfully installed experta-1.9.4 frozendict-1.2 schema-0.6.7\n"
          ]
        }
      ],
      "source": [
        "!pip install experta"
      ]
    },
    {
      "cell_type": "markdown",
      "source": [
        "# **Install + Memperbaharui Package frozendict Ke Versi Terbaru**"
      ],
      "metadata": {
        "id": "x02jOfqDCw3n"
      }
    },
    {
      "cell_type": "code",
      "source": [
        "!pip install --upgrade frozendict"
      ],
      "metadata": {
        "colab": {
          "base_uri": "https://localhost:8080/"
        },
        "id": "pYyUdQwf5VB_",
        "outputId": "ce3c812c-9493-45b7-9824-c5efae530677"
      },
      "execution_count": 3,
      "outputs": [
        {
          "output_type": "stream",
          "name": "stdout",
          "text": [
            "Requirement already satisfied: frozendict in /usr/local/lib/python3.11/dist-packages (1.2)\n",
            "Collecting frozendict\n",
            "  Downloading frozendict-2.4.6-py311-none-any.whl.metadata (23 kB)\n",
            "Downloading frozendict-2.4.6-py311-none-any.whl (16 kB)\n",
            "Installing collected packages: frozendict\n",
            "  Attempting uninstall: frozendict\n",
            "    Found existing installation: frozendict 1.2\n",
            "    Uninstalling frozendict-1.2:\n",
            "      Successfully uninstalled frozendict-1.2\n",
            "\u001b[31mERROR: pip's dependency resolver does not currently take into account all the packages that are installed. This behaviour is the source of the following dependency conflicts.\n",
            "experta 1.9.4 requires frozendict==1.2, but you have frozendict 2.4.6 which is incompatible.\u001b[0m\u001b[31m\n",
            "\u001b[0mSuccessfully installed frozendict-2.4.6\n"
          ]
        }
      ]
    },
    {
      "cell_type": "markdown",
      "source": [
        "# **Diagnosis Penyakit Berbasis Teks dan Query Input Menggunakan Metode Forward Chaining dengan Package Experta**"
      ],
      "metadata": {
        "id": "bPLw0dbKB-4e"
      }
    },
    {
      "cell_type": "code",
      "source": [
        "from experta import *\n",
        "\n",
        "class Diagnosis(KnowledgeEngine):\n",
        "    @Rule(Fact(batuk=True) & Fact(demam=True) & Fact(lelah=True))\n",
        "    def flu(self):\n",
        "        print(\"Diagnosa: Anda mungkin terkena Flu\")\n",
        "\n",
        "    @Rule(Fact(batuk=True) & Fact(demam=True) & Fact(sesak_napas=True))\n",
        "    def pneumonia(self):\n",
        "        print(\"Diagnosa: Anda mungkin terkena Pneumonia\")\n",
        "\n",
        "    @Rule(Fact(bersin=True) & Fact(hidung_meler=True) & Fact(batuk=False))\n",
        "    def pilek(self):\n",
        "        print(\"Diagnosa: Anda mungkin terkena Pilek\")\n",
        "\n",
        "    @Rule(Fact(sakit_tenggorokan=True) & Fact(demam=True))\n",
        "    def infeksi_tenggorokan(self):\n",
        "        print(\"Diagnosa: Anda mungkin mengalami Infeksi Tenggorokan\")\n",
        "\n",
        "    @Rule(Fact(batuk=False) & Fact(demam=False) & Fact(lelah=False))\n",
        "    def sehat(self):\n",
        "        print(\"Diagnosa: Anda tampak Sehat\")\n",
        "\n",
        "    @Rule(Fact(sakit_kepala=True) & Fact(mual=True) & Fact(sensitif_cahaya=True))\n",
        "    def migrain(self):\n",
        "        print(\"Diagnosa: Anda mungkin mengalami Migrain\")\n",
        "\n",
        "    @Rule(Fact(demam=True) & Fact(ruam=True) & Fact(sakit_tenggorokan=True))\n",
        "    def campak(self):\n",
        "        print(\"Diagnosa: Anda mungkin terkena Campak\")\n",
        "\n",
        "    @Rule(Fact(sakit_perut=True) & Fact(diare=True) & Fact(mual=True))\n",
        "    def keracunan_makanan(self):\n",
        "        print(\"Diagnosa: Anda mungkin mengalami Keracunan Makanan\")\n",
        "\n",
        "    @Rule(Fact(nyeri_sendi=True) & Fact(ruam=True) & Fact(demam=True))\n",
        "    def demam_dengue(self):\n",
        "        print(\"Diagnosa: Anda mungkin terkena Demam Berdarah\")\n",
        "\n",
        "    @Rule(Fact(nyeri_dada=True) & Fact(sesak_napas=True) & Fact(berkeringat=True))\n",
        "    def serangan_jantung(self):\n",
        "        print(\"Diagnosa: Anda mungkin mengalami Serangan Jantung\")\n",
        "\n",
        "    @Rule(Fact(berat_badan_turun=True) & Fact(sering_haus=True) & Fact(sering_buang_air=True))\n",
        "    def diabetes(self):\n",
        "        print(\"Diagnosa: Anda mungkin menderita Diabetes\")\n",
        "\n",
        "    @Rule(Fact(batuk=True) & Fact(berat_badan_turun=True) & Fact(keringat_malam=True))\n",
        "    def tuberkulosis(self):\n",
        "        print(\"Diagnosa: Anda mungkin menderita Tuberkulosis\")\n",
        "\n",
        "    @Rule(Fact(demam=True) & Fact(nyeri_otot=True) & Fact(pendarahan=True))\n",
        "    def ebola(self):\n",
        "        print(\"Diagnosa: Anda mungkin terkena Ebola\")\n",
        "\n",
        "    @Rule(Fact(demam=True) & Fact(kulit_kuning=True) & Fact(lelah=True))\n",
        "    def hepatitis(self):\n",
        "        print(\"Diagnosa: Anda mungkin terkena Hepatitis\")\n",
        "\n",
        "    @Rule(Fact(demam=True) & Fact(leher_kaku=True) & Fact(sensitif_cahaya=True))\n",
        "    def meningitis(self):\n",
        "        print(\"Diagnosa: Anda mungkin mengalami Meningitis\")\n",
        "\n",
        "    @Rule(Fact(demam=True) & Fact(kelenjar_bengkak=True) & Fact(lelah=True))\n",
        "    def mononukleosis(self):\n",
        "        print(\"Diagnosa: Anda mungkin menderita Mononukleosis\")\n",
        "\n",
        "    @Rule(Fact(kulit_kering=True) & Fact(berat_badan_naik=True) & Fact(lelah=True))\n",
        "    def hipotiroid(self):\n",
        "        print(\"Diagnosa: Anda mungkin menderita Hipotiroid\")\n",
        "\n",
        "    @Rule(Fact(gemetar=True) & Fact(cemas=True) & Fact(berat_badan_turun=True))\n",
        "    def hipertiroid(self):\n",
        "        print(\"Diagnosa: Anda mungkin menderita Hipertiroid\")\n",
        "\n",
        "    @Rule(Fact(napas_pendek=True) & Fact(mengi=True) & Fact(batuk=True))\n",
        "    def asma(self):\n",
        "        print(\"Diagnosa: Anda mungkin menderita Asma\")\n",
        "\n",
        "    @Rule(Fact(demam=True) & Fact(menggigil=True) & Fact(berkeringat=True))\n",
        "    def malaria(self):\n",
        "        print(\"Diagnosa: Anda mungkin terkena Malaria\")\n",
        "\n",
        "    @Rule(Fact(nyeri_punggung=True) & Fact(urine_terbakar=True) & Fact(sering_buang_air=True))\n",
        "    def infeksi_saluran_kemih(self):\n",
        "        print(\"Diagnosa: Anda mungkin mengalami Infeksi Saluran Kemih\")\n",
        "\n",
        "\n",
        "def get_input():\n",
        "    def tanya(pertanyaan):\n",
        "        return input(pertanyaan + \" (ya/tidak): \").strip().lower() == \"ya\"\n",
        "\n",
        "    return {\n",
        "        \"batuk\": tanya(\"Apakah Anda batuk?\"),\n",
        "        \"demam\": tanya(\"Apakah Anda demam?\"),\n",
        "        \"lelah\": tanya(\"Apakah Anda merasa lelah?\"),\n",
        "        \"sesak_napas\": tanya(\"Apakah Anda mengalami sesak napas?\"),\n",
        "        \"bersin\": tanya(\"Apakah Anda sering bersin?\"),\n",
        "        \"hidung_meler\": tanya(\"Apakah hidung Anda meler?\"),\n",
        "        \"sakit_tenggorokan\": tanya(\"Apakah Anda sakit tenggorokan?\"),\n",
        "        \"sakit_kepala\": tanya(\"Apakah Anda sakit kepala?\"),\n",
        "        \"mual\": tanya(\"Apakah Anda merasa mual?\"),\n",
        "        \"sensitif_cahaya\": tanya(\"Apakah Anda sensitif terhadap cahaya?\"),\n",
        "        \"ruam\": tanya(\"Apakah Anda mengalami ruam di kulit?\"),\n",
        "        \"sakit_perut\": tanya(\"Apakah Anda sakit perut?\"),\n",
        "        \"diare\": tanya(\"Apakah Anda diare?\"),\n",
        "        \"nyeri_sendi\": tanya(\"Apakah Anda nyeri sendi?\"),\n",
        "        \"nyeri_dada\": tanya(\"Apakah Anda nyeri dada?\"),\n",
        "        \"berkeringat\": tanya(\"Apakah Anda berkeringat berlebihan?\"),\n",
        "        \"berat_badan_turun\": tanya(\"Apakah berat badan Anda turun drastis?\"),\n",
        "        \"sering_haus\": tanya(\"Apakah Anda sering merasa haus?\"),\n",
        "        \"sering_buang_air\": tanya(\"Apakah Anda sering buang air kecil?\"),\n",
        "        \"keringat_malam\": tanya(\"Apakah Anda berkeringat di malam hari?\"),\n",
        "        \"nyeri_otot\": tanya(\"Apakah Anda merasakan nyeri otot?\"),\n",
        "        \"pendarahan\": tanya(\"Apakah Anda mengalami pendarahan tanpa sebab jelas?\"),\n",
        "        \"kulit_kuning\": tanya(\"Apakah kulit Anda menguning?\"),\n",
        "        \"leher_kaku\": tanya(\"Apakah leher Anda terasa kaku?\"),\n",
        "        \"kelenjar_bengkak\": tanya(\"Apakah Anda mengalami pembengkakan kelenjar?\"),\n",
        "        \"kulit_kering\": tanya(\"Apakah kulit Anda kering?\"),\n",
        "        \"berat_badan_naik\": tanya(\"Apakah berat badan Anda naik tanpa sebab?\"),\n",
        "        \"gemetar\": tanya(\"Apakah Anda sering gemetar?\"),\n",
        "        \"cemas\": tanya(\"Apakah Anda merasa cemas?\"),\n",
        "        \"napas_pendek\": tanya(\"Apakah Anda merasa napas pendek?\"),\n",
        "        \"mengi\": tanya(\"Apakah Anda mengi saat bernapas?\"),\n",
        "        \"menggigil\": tanya(\"Apakah Anda menggigil?\"),\n",
        "        \"nyeri_punggung\": tanya(\"Apakah Anda nyeri punggung?\"),\n",
        "        \"urine_terbakar\": tanya(\"Apakah Anda merasa terbakar saat buang air kecil?\")\n",
        "    }\n",
        "\n",
        "if __name__ == \"__main__\":\n",
        "    gejala = get_input()\n",
        "    engine = Diagnosis()\n",
        "    engine.reset()\n",
        "    for key, value in gejala.items():\n",
        "        engine.declare(Fact(**{key: value}))\n",
        "    engine.run()"
      ],
      "metadata": {
        "colab": {
          "base_uri": "https://localhost:8080/"
        },
        "id": "ZHai9DVa5rc2",
        "outputId": "02067416-8b1d-4761-c05e-7905a6b58b03"
      },
      "execution_count": 10,
      "outputs": [
        {
          "output_type": "stream",
          "name": "stdout",
          "text": [
            "Apakah Anda batuk? (ya/tidak): ya\n",
            "Apakah Anda demam? (ya/tidak): ya\n",
            "Apakah Anda merasa lelah? (ya/tidak): ya\n",
            "Apakah Anda mengalami sesak napas? (ya/tidak): ya\n",
            "Apakah Anda sering bersin? (ya/tidak): ya\n",
            "Apakah hidung Anda meler? (ya/tidak): ya\n",
            "Apakah Anda sakit tenggorokan? (ya/tidak): ya\n",
            "Apakah Anda sakit kepala? (ya/tidak): ya\n",
            "Apakah Anda merasa mual? (ya/tidak): ya\n",
            "Apakah Anda sensitif terhadap cahaya? (ya/tidak): ya\n",
            "Apakah Anda mengalami ruam di kulit? (ya/tidak): tidak\n",
            "Apakah Anda sakit perut? (ya/tidak): tidak\n",
            "Apakah Anda diare? (ya/tidak): tidak\n",
            "Apakah Anda nyeri sendi? (ya/tidak): ya\n",
            "Apakah Anda nyeri dada? (ya/tidak): ya\n",
            "Apakah Anda berkeringat berlebihan? (ya/tidak): tidak\n",
            "Apakah berat badan Anda turun drastis? (ya/tidak): tidak\n",
            "Apakah Anda sering merasa haus? (ya/tidak): tidak\n",
            "Apakah Anda sering buang air kecil? (ya/tidak): tidak\n",
            "Apakah Anda berkeringat di malam hari? (ya/tidak): tidak\n",
            "Apakah Anda merasakan nyeri otot? (ya/tidak): ya\n",
            "Apakah Anda mengalami pendarahan tanpa sebab jelas? (ya/tidak): tidak\n",
            "Apakah kulit Anda menguning? (ya/tidak): tidak\n",
            "Apakah leher Anda terasa kaku? (ya/tidak): tidak\n",
            "Apakah Anda mengalami pembengkakan kelenjar? (ya/tidak): tidak\n",
            "Apakah kulit Anda kering? (ya/tidak): tidak\n",
            "Apakah berat badan Anda naik tanpa sebab? (ya/tidak): tidak\n",
            "Apakah Anda sering gemetar? (ya/tidak): tidak\n",
            "Apakah Anda merasa cemas? (ya/tidak): tidak\n",
            "Apakah Anda merasa napas pendek? (ya/tidak): tidak\n",
            "Apakah Anda mengi saat bernapas? (ya/tidak): ya\n",
            "Apakah Anda menggigil? (ya/tidak): tidak\n",
            "Apakah Anda nyeri punggung? (ya/tidak): tidak\n",
            "Apakah Anda merasa terbakar saat buang air kecil? (ya/tidak): tidak\n",
            "Diagnosa: Anda mungkin mengalami Migrain\n",
            "Diagnosa: Anda mungkin mengalami Infeksi Tenggorokan\n",
            "Diagnosa: Anda mungkin terkena Pneumonia\n",
            "Diagnosa: Anda mungkin terkena Flu\n"
          ]
        }
      ]
    },
    {
      "cell_type": "markdown",
      "source": [
        "# **Diagnosis Penyakit Sederhana Menggunakan Metode Forward Chaining dengan Package Experta**"
      ],
      "metadata": {
        "id": "qInHDLrxET8q"
      }
    },
    {
      "cell_type": "code",
      "source": [
        "from experta import *\n",
        "\n",
        "class SystemPakarMedis(KnowledgeEngine):\n",
        "  @Rule(Fact(Demam=True) & Fact(batuk=True))\n",
        "  def flu(self):\n",
        "    print(\"Diagnosis: Flu\")\n",
        "\n",
        "  @Rule(Fact(demam=True) & Fact(sakit_tenggorokan=True))\n",
        "  def throat_infrction(self):\n",
        "    print(\"Diagnosis: Radang Tenggorokan\")\n",
        "\n",
        "  @Rule(Fact(nyeri_otot=True) & Fact(nyeri_perut=True))\n",
        "  def hernia(self):\n",
        "    print(\"Diagnosis: Hernia\")\n",
        "\n",
        "engine = SystemPakarMedis()\n",
        "engine.reset()\n",
        "engine.declare(Fact(nyeri_otot=True))\n",
        "engine.declare(Fact(nyeri_perut=True))\n",
        "engine.run()"
      ],
      "metadata": {
        "colab": {
          "base_uri": "https://localhost:8080/"
        },
        "id": "PlgEaNZpDZ2F",
        "outputId": "4e99ebb5-adc3-412a-cb0a-a4c50edf6a2e"
      },
      "execution_count": 4,
      "outputs": [
        {
          "output_type": "stream",
          "name": "stdout",
          "text": [
            "Diagnosis: Hernia\n"
          ]
        }
      ]
    },
    {
      "cell_type": "markdown",
      "source": [
        "# **Implementasi Forward Chaining Sederhana dalam Sistem Pakar Berbasis Aturan**"
      ],
      "metadata": {
        "id": "9mCHCNVSCQC7"
      }
    },
    {
      "cell_type": "code",
      "source": [
        "def forward_chaining(fact, rules):\n",
        "  inferred = set(facts)\n",
        "  changed = True\n",
        "\n",
        "  while changed:\n",
        "    changed = False\n",
        "    for rule in rules:\n",
        "      if rule[\"if\"].issubset(inferred) and rule[\"then\"] not in inferred:\n",
        "        inferred.add(rule[\"then\"])\n",
        "        changed = True\n",
        "  return inferred\n",
        "\n",
        "facts = {\"has_feathers\", \"has_beak\", \"cannot_fly\"}\n",
        "rules = [\n",
        "    {\"if\": {\"has_feathers\", \"has_beak\"}, \"then\": \"is_bird\"},\n",
        "    {\"if\": {\"lays_eggs\", \"is_bird\"}, \"then\": \"is_chicken\"},\n",
        "    {\"if\": {\"cannot_fly\", \"is_bird\"}, \"then\": \"is_pinguin\"},\n",
        "]\n",
        "\n",
        "result = forward_chaining(facts, rules)\n",
        "print(\"Inferred facts: \", result)"
      ],
      "metadata": {
        "colab": {
          "base_uri": "https://localhost:8080/"
        },
        "id": "a7jpdrqHH_t_",
        "outputId": "353eedb2-e53d-4e23-f4ac-f8853b517c2b"
      },
      "execution_count": 5,
      "outputs": [
        {
          "output_type": "stream",
          "name": "stdout",
          "text": [
            "Inferred facts:  {'has_beak', 'is_bird', 'has_feathers', 'is_pinguin', 'cannot_fly'}\n"
          ]
        }
      ]
    },
    {
      "cell_type": "markdown",
      "source": [
        "# **Implementasi Backward Chaining Sederhana dalam Sistem Pakar Berbasis Aturan**"
      ],
      "metadata": {
        "id": "ZzEnsnoECXDS"
      }
    },
    {
      "cell_type": "code",
      "source": [
        "def backward_chaining(goal, facts, rules):\n",
        "  if goal in facts:\n",
        "    return True\n",
        "  for rule in rules:\n",
        "    if rule[\"then\"] == goal:\n",
        "      if all(backward_chaining(cond, facts, rules) for cond in rule[\"if\"]):\n",
        "        return True\n",
        "  return False\n",
        "\n",
        "facts = {\"likes_computers\", \"solves_problems\", \"likes_design\"}\n",
        "rules = [\n",
        "    {\"if\": {\"likes_computers\", \"solves_problems\"}, \"then\": \"should_be_engineer\"},\n",
        "    {\"if\": {\"should_be_engineer\", \"likes_programming\"}, \"then\": \"software_engineer\"},\n",
        "    {\"if\": {\"should_be_engineer\", \"likes_design\"}, \"then\": \"UI/UX_engineer\"},\n",
        "]\n",
        "\n",
        "goal = \"UI/UX_engineer\"\n",
        "result = backward_chaining(goal, facts, rules)\n",
        "print(f\"Is '{goal}' provable? -> \", result)"
      ],
      "metadata": {
        "colab": {
          "base_uri": "https://localhost:8080/"
        },
        "id": "_27rn_bDNBKl",
        "outputId": "a587ff78-6e90-4420-e821-b6119c6d5e87"
      },
      "execution_count": 6,
      "outputs": [
        {
          "output_type": "stream",
          "name": "stdout",
          "text": [
            "Is 'UI/UX_engineer' provable? ->  True\n"
          ]
        }
      ]
    },
    {
      "cell_type": "markdown",
      "source": [
        "# **Sistem Pakar Identifikasi Kendaraan Menggunakan Metode Forward Chaining**"
      ],
      "metadata": {
        "id": "hjczV_DVCcMB"
      }
    },
    {
      "cell_type": "code",
      "source": [
        "def forward_chaining(fact, rules):\n",
        "  inferred = set(facts)\n",
        "  changed = True\n",
        "\n",
        "  while changed:\n",
        "    changed = False\n",
        "    for rule in rules:\n",
        "      if rule[\"if\"].issubset(inferred) and rule[\"then\"] not in inferred:\n",
        "        inferred.add(rule[\"then\"])\n",
        "        changed = True\n",
        "  return inferred\n",
        "\n",
        "facts = {\"has_weels\", \"has_engine\", \"has_four_weels\"}\n",
        "rules = [\n",
        "    {\"if\": {\"has_weels\", \"has_engine\"}, \"then\": \"is_vehicle\"},\n",
        "    {\"if\": {\"is_vehicle\", \"has_two_weels\"}, \"then\": \"is_motorcycle\"},\n",
        "    {\"if\": {\"is_vehicle\", \"has_four_wheels\"}, \"then\": \"is_car\"},\n",
        "]\n",
        "\n",
        "\n",
        "result = forward_chaining(facts, rules)\n",
        "print(\"Inferred facts: \", result)"
      ],
      "metadata": {
        "colab": {
          "base_uri": "https://localhost:8080/"
        },
        "id": "rLim2Di1Qiuv",
        "outputId": "afcddc1b-0c41-44f4-9399-ce4ac19109b8"
      },
      "execution_count": 7,
      "outputs": [
        {
          "output_type": "stream",
          "name": "stdout",
          "text": [
            "Inferred facts:  {'is_vehicle', 'has_four_weels', 'has_engine', 'has_weels'}\n"
          ]
        }
      ]
    },
    {
      "cell_type": "markdown",
      "source": [
        "# **Sistem Pakar Identifikasi Hewan Menggunakan Metode Backward Chaining**"
      ],
      "metadata": {
        "id": "mhWk9SUXCiDr"
      }
    },
    {
      "cell_type": "code",
      "source": [
        "def backward_chaining(goal, facts, rules):\n",
        "  if goal in facts:\n",
        "    return True\n",
        "  for rule in rules:\n",
        "    if rule[\"then\"] == goal:\n",
        "      if all(backward_chaining(cond, facts, rules) for cond in rule[\"if\"]):\n",
        "        return True\n",
        "  return False\n",
        "\n",
        "facts = {\"has_feathers\", \"has_small_wings\"}\n",
        "rules = [\n",
        "    {\"if\": {\"has_feathers\"}, \"then\": \"is_bird\"},\n",
        "    {\"if\": {\"is_bird\", \"has_small_wings\"}, \"then\": \"cannot_fly\"},\n",
        "    {\"if\": {\"is_bird\", \"cannot_fly\"}, \"then\": \"is_penguin\"},\n",
        "]\n",
        "\n",
        "goal = \"is_penguin\"\n",
        "result = backward_chaining(goal, facts, rules)\n",
        "print(f\"Is '{goal}' provable? -> \", result)"
      ],
      "metadata": {
        "colab": {
          "base_uri": "https://localhost:8080/"
        },
        "id": "rAbUWiJYS_o1",
        "outputId": "c05162ba-0cbb-4da0-9322-895cd82b40c0"
      },
      "execution_count": 11,
      "outputs": [
        {
          "output_type": "stream",
          "name": "stdout",
          "text": [
            "Is 'is_penguin' provable? ->  True\n"
          ]
        }
      ]
    }
  ]
}